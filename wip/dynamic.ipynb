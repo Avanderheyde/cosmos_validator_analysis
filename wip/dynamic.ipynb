{
 "cells": [
  {
   "cell_type": "markdown",
   "metadata": {},
   "source": [
    "## Validator Value Analysis"
   ]
  },
  {
   "cell_type": "code",
   "execution_count": 1,
   "metadata": {},
   "outputs": [],
   "source": [
    "import requests as rq\n",
    "import pandas as pd\n",
    "import numpy as np\n",
    "from bs4 import BeautifulSoup\n",
    "from selenium import webdriver\n",
    "import time"
   ]
  },
  {
   "cell_type": "code",
   "execution_count": 114,
   "metadata": {},
   "outputs": [],
   "source": [
    "data = {}\n",
    "coingecko_ids = ['juno-network', 'osmosis','cosmos', 'evmos', 'akash-network', 'stargaze', 'umee', 'secret','terra', 'injective-protocol']\n",
    "coingecko_ids = ['juno-network', 'osmosis','cosmos', 'evmos', 'akash', 'stargaze', 'umee', 'secret','terra', 'injective']"
   ]
  },
  {
   "cell_type": "code",
   "execution_count": 8,
   "metadata": {},
   "outputs": [],
   "source": [
    "#Prices\n",
    "prices = []\n",
    "for id in coingecko_ids:\n",
    "    price = \n",
    "    try: \n",
    "        price = rq.get(f\"https://api.coingecko.com/api/v3/simple/price?ids={id}&vs_currencies=usd\").json()[id]['usd']\n",
    "    except\n",
    "    prices.append()"
   ]
  },
  {
   "cell_type": "code",
   "execution_count": 79,
   "metadata": {},
   "outputs": [
    {
     "data": {
      "text/plain": [
       "27321.044897"
      ]
     },
     "execution_count": 79,
     "metadata": {},
     "output_type": "execute_result"
    }
   ],
   "source": [
    "\n",
    "juno_val_set = rq.get(\"https://validators.cosmos.directory/chains/juno\").json()\n",
    "juno_val_set_df = pd.DataFrame(juno_val_set['validators'])\n",
    "juno_actv_val_set_df = juno_val_set_df[juno_val_set_df['status']=='BOND_STATUS_BONDED'].sort_values(by=['rank'], ascending=True)\n"
   ]
  },
  {
   "cell_type": "code",
   "execution_count": 108,
   "metadata": {},
   "outputs": [
    {
     "ename": "KeyError",
     "evalue": "'status'",
     "output_type": "error",
     "traceback": [
      "\u001b[0;31m---------------------------------------------------------------------------\u001b[0m",
      "\u001b[0;31mKeyError\u001b[0m                                  Traceback (most recent call last)",
      "File \u001b[0;32m/Library/Frameworks/Python.framework/Versions/3.10/lib/python3.10/site-packages/pandas/core/indexes/base.py:3621\u001b[0m, in \u001b[0;36mIndex.get_loc\u001b[0;34m(self, key, method, tolerance)\u001b[0m\n\u001b[1;32m   <a href='file:///Library/Frameworks/Python.framework/Versions/3.10/lib/python3.10/site-packages/pandas/core/indexes/base.py?line=3619'>3620</a>\u001b[0m \u001b[39mtry\u001b[39;00m:\n\u001b[0;32m-> <a href='file:///Library/Frameworks/Python.framework/Versions/3.10/lib/python3.10/site-packages/pandas/core/indexes/base.py?line=3620'>3621</a>\u001b[0m     \u001b[39mreturn\u001b[39;00m \u001b[39mself\u001b[39;49m\u001b[39m.\u001b[39;49m_engine\u001b[39m.\u001b[39;49mget_loc(casted_key)\n\u001b[1;32m   <a href='file:///Library/Frameworks/Python.framework/Versions/3.10/lib/python3.10/site-packages/pandas/core/indexes/base.py?line=3621'>3622</a>\u001b[0m \u001b[39mexcept\u001b[39;00m \u001b[39mKeyError\u001b[39;00m \u001b[39mas\u001b[39;00m err:\n",
      "File \u001b[0;32mpandas/_libs/index.pyx:136\u001b[0m, in \u001b[0;36mpandas._libs.index.IndexEngine.get_loc\u001b[0;34m()\u001b[0m\n",
      "File \u001b[0;32mpandas/_libs/index.pyx:163\u001b[0m, in \u001b[0;36mpandas._libs.index.IndexEngine.get_loc\u001b[0;34m()\u001b[0m\n",
      "File \u001b[0;32mpandas/_libs/hashtable_class_helper.pxi:5198\u001b[0m, in \u001b[0;36mpandas._libs.hashtable.PyObjectHashTable.get_item\u001b[0;34m()\u001b[0m\n",
      "File \u001b[0;32mpandas/_libs/hashtable_class_helper.pxi:5206\u001b[0m, in \u001b[0;36mpandas._libs.hashtable.PyObjectHashTable.get_item\u001b[0;34m()\u001b[0m\n",
      "\u001b[0;31mKeyError\u001b[0m: 'status'",
      "\nThe above exception was the direct cause of the following exception:\n",
      "\u001b[0;31mKeyError\u001b[0m                                  Traceback (most recent call last)",
      "\u001b[1;32m/Users/alderik/code/whitewhale/Analysis-Tools/validator-analysis/eda.ipynb Cell 6'\u001b[0m in \u001b[0;36m<cell line: 3>\u001b[0;34m()\u001b[0m\n\u001b[1;32m      <a href='vscode-notebook-cell:/Users/alderik/code/whitewhale/Analysis-Tools/validator-analysis/eda.ipynb#ch0000027?line=0'>1</a>\u001b[0m osmo_val_set \u001b[39m=\u001b[39m rq\u001b[39m.\u001b[39mget(\u001b[39m\"\u001b[39m\u001b[39mhttps://validators.cosmos.directory/chains/injective\u001b[39m\u001b[39m\"\u001b[39m)\u001b[39m.\u001b[39mjson()\n\u001b[1;32m      <a href='vscode-notebook-cell:/Users/alderik/code/whitewhale/Analysis-Tools/validator-analysis/eda.ipynb#ch0000027?line=1'>2</a>\u001b[0m osmo_val_set_df \u001b[39m=\u001b[39m pd\u001b[39m.\u001b[39mDataFrame(osmo_val_set[\u001b[39m'\u001b[39m\u001b[39mvalidators\u001b[39m\u001b[39m'\u001b[39m])\n\u001b[0;32m----> <a href='vscode-notebook-cell:/Users/alderik/code/whitewhale/Analysis-Tools/validator-analysis/eda.ipynb#ch0000027?line=2'>3</a>\u001b[0m osmo_actv_val_set_df \u001b[39m=\u001b[39m osmo_val_set_df[osmo_val_set_df[\u001b[39m'\u001b[39;49m\u001b[39mstatus\u001b[39;49m\u001b[39m'\u001b[39;49m]\u001b[39m==\u001b[39m\u001b[39m'\u001b[39m\u001b[39mBOND_STATUS_BONDED\u001b[39m\u001b[39m'\u001b[39m]\u001b[39m.\u001b[39msort_values(by\u001b[39m=\u001b[39m[\u001b[39m'\u001b[39m\u001b[39mrank\u001b[39m\u001b[39m'\u001b[39m], ascending\u001b[39m=\u001b[39m\u001b[39mTrue\u001b[39;00m)\n\u001b[1;32m      <a href='vscode-notebook-cell:/Users/alderik/code/whitewhale/Analysis-Tools/validator-analysis/eda.ipynb#ch0000027?line=3'>4</a>\u001b[0m \u001b[39mfloat\u001b[39m(osmo_actv_val_set_df\u001b[39m.\u001b[39mtail(\u001b[39m1\u001b[39m)[\u001b[39m'\u001b[39m\u001b[39mdelegator_shares\u001b[39m\u001b[39m'\u001b[39m])\u001b[39m/\u001b[39m\u001b[39m1000000\u001b[39m\n",
      "File \u001b[0;32m/Library/Frameworks/Python.framework/Versions/3.10/lib/python3.10/site-packages/pandas/core/frame.py:3505\u001b[0m, in \u001b[0;36mDataFrame.__getitem__\u001b[0;34m(self, key)\u001b[0m\n\u001b[1;32m   <a href='file:///Library/Frameworks/Python.framework/Versions/3.10/lib/python3.10/site-packages/pandas/core/frame.py?line=3502'>3503</a>\u001b[0m \u001b[39mif\u001b[39;00m \u001b[39mself\u001b[39m\u001b[39m.\u001b[39mcolumns\u001b[39m.\u001b[39mnlevels \u001b[39m>\u001b[39m \u001b[39m1\u001b[39m:\n\u001b[1;32m   <a href='file:///Library/Frameworks/Python.framework/Versions/3.10/lib/python3.10/site-packages/pandas/core/frame.py?line=3503'>3504</a>\u001b[0m     \u001b[39mreturn\u001b[39;00m \u001b[39mself\u001b[39m\u001b[39m.\u001b[39m_getitem_multilevel(key)\n\u001b[0;32m-> <a href='file:///Library/Frameworks/Python.framework/Versions/3.10/lib/python3.10/site-packages/pandas/core/frame.py?line=3504'>3505</a>\u001b[0m indexer \u001b[39m=\u001b[39m \u001b[39mself\u001b[39;49m\u001b[39m.\u001b[39;49mcolumns\u001b[39m.\u001b[39;49mget_loc(key)\n\u001b[1;32m   <a href='file:///Library/Frameworks/Python.framework/Versions/3.10/lib/python3.10/site-packages/pandas/core/frame.py?line=3505'>3506</a>\u001b[0m \u001b[39mif\u001b[39;00m is_integer(indexer):\n\u001b[1;32m   <a href='file:///Library/Frameworks/Python.framework/Versions/3.10/lib/python3.10/site-packages/pandas/core/frame.py?line=3506'>3507</a>\u001b[0m     indexer \u001b[39m=\u001b[39m [indexer]\n",
      "File \u001b[0;32m/Library/Frameworks/Python.framework/Versions/3.10/lib/python3.10/site-packages/pandas/core/indexes/base.py:3623\u001b[0m, in \u001b[0;36mIndex.get_loc\u001b[0;34m(self, key, method, tolerance)\u001b[0m\n\u001b[1;32m   <a href='file:///Library/Frameworks/Python.framework/Versions/3.10/lib/python3.10/site-packages/pandas/core/indexes/base.py?line=3620'>3621</a>\u001b[0m     \u001b[39mreturn\u001b[39;00m \u001b[39mself\u001b[39m\u001b[39m.\u001b[39m_engine\u001b[39m.\u001b[39mget_loc(casted_key)\n\u001b[1;32m   <a href='file:///Library/Frameworks/Python.framework/Versions/3.10/lib/python3.10/site-packages/pandas/core/indexes/base.py?line=3621'>3622</a>\u001b[0m \u001b[39mexcept\u001b[39;00m \u001b[39mKeyError\u001b[39;00m \u001b[39mas\u001b[39;00m err:\n\u001b[0;32m-> <a href='file:///Library/Frameworks/Python.framework/Versions/3.10/lib/python3.10/site-packages/pandas/core/indexes/base.py?line=3622'>3623</a>\u001b[0m     \u001b[39mraise\u001b[39;00m \u001b[39mKeyError\u001b[39;00m(key) \u001b[39mfrom\u001b[39;00m \u001b[39merr\u001b[39;00m\n\u001b[1;32m   <a href='file:///Library/Frameworks/Python.framework/Versions/3.10/lib/python3.10/site-packages/pandas/core/indexes/base.py?line=3623'>3624</a>\u001b[0m \u001b[39mexcept\u001b[39;00m \u001b[39mTypeError\u001b[39;00m:\n\u001b[1;32m   <a href='file:///Library/Frameworks/Python.framework/Versions/3.10/lib/python3.10/site-packages/pandas/core/indexes/base.py?line=3624'>3625</a>\u001b[0m     \u001b[39m# If we have a listlike key, _check_indexing_error will raise\u001b[39;00m\n\u001b[1;32m   <a href='file:///Library/Frameworks/Python.framework/Versions/3.10/lib/python3.10/site-packages/pandas/core/indexes/base.py?line=3625'>3626</a>\u001b[0m     \u001b[39m#  InvalidIndexError. Otherwise we fall through and re-raise\u001b[39;00m\n\u001b[1;32m   <a href='file:///Library/Frameworks/Python.framework/Versions/3.10/lib/python3.10/site-packages/pandas/core/indexes/base.py?line=3626'>3627</a>\u001b[0m     \u001b[39m#  the TypeError.\u001b[39;00m\n\u001b[1;32m   <a href='file:///Library/Frameworks/Python.framework/Versions/3.10/lib/python3.10/site-packages/pandas/core/indexes/base.py?line=3627'>3628</a>\u001b[0m     \u001b[39mself\u001b[39m\u001b[39m.\u001b[39m_check_indexing_error(key)\n",
      "\u001b[0;31mKeyError\u001b[0m: 'status'"
     ]
    }
   ],
   "source": [
    "\n",
    "osmo_val_set = rq.get(\"https://validators.cosmos.directory/chains/injective\").json()\n",
    "osmo_val_set_df = pd.DataFrame(osmo_val_set['validators'])\n",
    "osmo_actv_val_set_df = osmo_val_set_df[osmo_val_set_df['status']=='BOND_STATUS_BONDED'].sort_values(by=['rank'], ascending=True)\n",
    "float(osmo_actv_val_set_df.tail(1)['delegator_shares'])/1000000"
   ]
  },
  {
   "cell_type": "code",
   "execution_count": 111,
   "metadata": {},
   "outputs": [],
   "source": [
    "def get_min_delegation(name):\n",
    "    val_set = rq.get(f\"https://validators.cosmos.directory/chains/{name}\").json()\n",
    "    val_set_df = pd.DataFrame(val_set['validators'])\n",
    "    actv_val_set_df = val_set_df[val_set_df['status']=='BOND_STATUS_BONDED'].sort_values(by=['rank'], ascending=True)\n",
    "    return float(actv_val_set_df.tail(1)['delegator_shares'])/1000000"
   ]
  },
  {
   "cell_type": "code",
   "execution_count": 112,
   "metadata": {},
   "outputs": [
    {
     "name": "stdout",
     "output_type": "stream",
     "text": [
      "juno\n",
      "27321.044897\n",
      "osmosis\n",
      "119758.231193\n",
      "cosmoshub\n",
      "34136.829775278165\n",
      "evmos\n",
      "1.3466935361643852e+16\n",
      "akash\n",
      "25652.9975\n",
      "stargaze\n",
      "931406.858735\n",
      "umee\n",
      "1184251.398751\n",
      "secretnetwork\n",
      "40167.907006\n",
      "terra\n",
      "1.0\n",
      "injective\n"
     ]
    },
    {
     "ename": "KeyError",
     "evalue": "'status'",
     "output_type": "error",
     "traceback": [
      "\u001b[0;31m---------------------------------------------------------------------------\u001b[0m",
      "\u001b[0;31mKeyError\u001b[0m                                  Traceback (most recent call last)",
      "File \u001b[0;32m/Library/Frameworks/Python.framework/Versions/3.10/lib/python3.10/site-packages/pandas/core/indexes/base.py:3621\u001b[0m, in \u001b[0;36mIndex.get_loc\u001b[0;34m(self, key, method, tolerance)\u001b[0m\n\u001b[1;32m   <a href='file:///Library/Frameworks/Python.framework/Versions/3.10/lib/python3.10/site-packages/pandas/core/indexes/base.py?line=3619'>3620</a>\u001b[0m \u001b[39mtry\u001b[39;00m:\n\u001b[0;32m-> <a href='file:///Library/Frameworks/Python.framework/Versions/3.10/lib/python3.10/site-packages/pandas/core/indexes/base.py?line=3620'>3621</a>\u001b[0m     \u001b[39mreturn\u001b[39;00m \u001b[39mself\u001b[39;49m\u001b[39m.\u001b[39;49m_engine\u001b[39m.\u001b[39;49mget_loc(casted_key)\n\u001b[1;32m   <a href='file:///Library/Frameworks/Python.framework/Versions/3.10/lib/python3.10/site-packages/pandas/core/indexes/base.py?line=3621'>3622</a>\u001b[0m \u001b[39mexcept\u001b[39;00m \u001b[39mKeyError\u001b[39;00m \u001b[39mas\u001b[39;00m err:\n",
      "File \u001b[0;32mpandas/_libs/index.pyx:136\u001b[0m, in \u001b[0;36mpandas._libs.index.IndexEngine.get_loc\u001b[0;34m()\u001b[0m\n",
      "File \u001b[0;32mpandas/_libs/index.pyx:163\u001b[0m, in \u001b[0;36mpandas._libs.index.IndexEngine.get_loc\u001b[0;34m()\u001b[0m\n",
      "File \u001b[0;32mpandas/_libs/hashtable_class_helper.pxi:5198\u001b[0m, in \u001b[0;36mpandas._libs.hashtable.PyObjectHashTable.get_item\u001b[0;34m()\u001b[0m\n",
      "File \u001b[0;32mpandas/_libs/hashtable_class_helper.pxi:5206\u001b[0m, in \u001b[0;36mpandas._libs.hashtable.PyObjectHashTable.get_item\u001b[0;34m()\u001b[0m\n",
      "\u001b[0;31mKeyError\u001b[0m: 'status'",
      "\nThe above exception was the direct cause of the following exception:\n",
      "\u001b[0;31mKeyError\u001b[0m                                  Traceback (most recent call last)",
      "\u001b[1;32m/Users/alderik/code/whitewhale/Analysis-Tools/validator-analysis/eda.ipynb Cell 8'\u001b[0m in \u001b[0;36m<cell line: 1>\u001b[0;34m()\u001b[0m\n\u001b[1;32m      <a href='vscode-notebook-cell:/Users/alderik/code/whitewhale/Analysis-Tools/validator-analysis/eda.ipynb#ch0000029?line=0'>1</a>\u001b[0m \u001b[39mfor\u001b[39;00m i \u001b[39min\u001b[39;00m assets:\n\u001b[1;32m      <a href='vscode-notebook-cell:/Users/alderik/code/whitewhale/Analysis-Tools/validator-analysis/eda.ipynb#ch0000029?line=1'>2</a>\u001b[0m     \u001b[39mprint\u001b[39m(i)\n\u001b[0;32m----> <a href='vscode-notebook-cell:/Users/alderik/code/whitewhale/Analysis-Tools/validator-analysis/eda.ipynb#ch0000029?line=2'>3</a>\u001b[0m     \u001b[39mprint\u001b[39m(get_min_delegation(i))\n",
      "\u001b[1;32m/Users/alderik/code/whitewhale/Analysis-Tools/validator-analysis/eda.ipynb Cell 7'\u001b[0m in \u001b[0;36mget_min_delegation\u001b[0;34m(name)\u001b[0m\n\u001b[1;32m      <a href='vscode-notebook-cell:/Users/alderik/code/whitewhale/Analysis-Tools/validator-analysis/eda.ipynb#ch0000018?line=1'>2</a>\u001b[0m val_set \u001b[39m=\u001b[39m rq\u001b[39m.\u001b[39mget(\u001b[39mf\u001b[39m\u001b[39m\"\u001b[39m\u001b[39mhttps://validators.cosmos.directory/chains/\u001b[39m\u001b[39m{\u001b[39;00mname\u001b[39m}\u001b[39;00m\u001b[39m\"\u001b[39m)\u001b[39m.\u001b[39mjson()\n\u001b[1;32m      <a href='vscode-notebook-cell:/Users/alderik/code/whitewhale/Analysis-Tools/validator-analysis/eda.ipynb#ch0000018?line=2'>3</a>\u001b[0m val_set_df \u001b[39m=\u001b[39m pd\u001b[39m.\u001b[39mDataFrame(val_set[\u001b[39m'\u001b[39m\u001b[39mvalidators\u001b[39m\u001b[39m'\u001b[39m])\n\u001b[0;32m----> <a href='vscode-notebook-cell:/Users/alderik/code/whitewhale/Analysis-Tools/validator-analysis/eda.ipynb#ch0000018?line=3'>4</a>\u001b[0m actv_val_set_df \u001b[39m=\u001b[39m val_set_df[val_set_df[\u001b[39m'\u001b[39;49m\u001b[39mstatus\u001b[39;49m\u001b[39m'\u001b[39;49m]\u001b[39m==\u001b[39m\u001b[39m'\u001b[39m\u001b[39mBOND_STATUS_BONDED\u001b[39m\u001b[39m'\u001b[39m]\u001b[39m.\u001b[39msort_values(by\u001b[39m=\u001b[39m[\u001b[39m'\u001b[39m\u001b[39mrank\u001b[39m\u001b[39m'\u001b[39m], ascending\u001b[39m=\u001b[39m\u001b[39mTrue\u001b[39;00m)\n\u001b[1;32m      <a href='vscode-notebook-cell:/Users/alderik/code/whitewhale/Analysis-Tools/validator-analysis/eda.ipynb#ch0000018?line=4'>5</a>\u001b[0m \u001b[39mreturn\u001b[39;00m \u001b[39mfloat\u001b[39m(actv_val_set_df\u001b[39m.\u001b[39mtail(\u001b[39m1\u001b[39m)[\u001b[39m'\u001b[39m\u001b[39mdelegator_shares\u001b[39m\u001b[39m'\u001b[39m])\u001b[39m/\u001b[39m\u001b[39m1000000\u001b[39m\n",
      "File \u001b[0;32m/Library/Frameworks/Python.framework/Versions/3.10/lib/python3.10/site-packages/pandas/core/frame.py:3505\u001b[0m, in \u001b[0;36mDataFrame.__getitem__\u001b[0;34m(self, key)\u001b[0m\n\u001b[1;32m   <a href='file:///Library/Frameworks/Python.framework/Versions/3.10/lib/python3.10/site-packages/pandas/core/frame.py?line=3502'>3503</a>\u001b[0m \u001b[39mif\u001b[39;00m \u001b[39mself\u001b[39m\u001b[39m.\u001b[39mcolumns\u001b[39m.\u001b[39mnlevels \u001b[39m>\u001b[39m \u001b[39m1\u001b[39m:\n\u001b[1;32m   <a href='file:///Library/Frameworks/Python.framework/Versions/3.10/lib/python3.10/site-packages/pandas/core/frame.py?line=3503'>3504</a>\u001b[0m     \u001b[39mreturn\u001b[39;00m \u001b[39mself\u001b[39m\u001b[39m.\u001b[39m_getitem_multilevel(key)\n\u001b[0;32m-> <a href='file:///Library/Frameworks/Python.framework/Versions/3.10/lib/python3.10/site-packages/pandas/core/frame.py?line=3504'>3505</a>\u001b[0m indexer \u001b[39m=\u001b[39m \u001b[39mself\u001b[39;49m\u001b[39m.\u001b[39;49mcolumns\u001b[39m.\u001b[39;49mget_loc(key)\n\u001b[1;32m   <a href='file:///Library/Frameworks/Python.framework/Versions/3.10/lib/python3.10/site-packages/pandas/core/frame.py?line=3505'>3506</a>\u001b[0m \u001b[39mif\u001b[39;00m is_integer(indexer):\n\u001b[1;32m   <a href='file:///Library/Frameworks/Python.framework/Versions/3.10/lib/python3.10/site-packages/pandas/core/frame.py?line=3506'>3507</a>\u001b[0m     indexer \u001b[39m=\u001b[39m [indexer]\n",
      "File \u001b[0;32m/Library/Frameworks/Python.framework/Versions/3.10/lib/python3.10/site-packages/pandas/core/indexes/base.py:3623\u001b[0m, in \u001b[0;36mIndex.get_loc\u001b[0;34m(self, key, method, tolerance)\u001b[0m\n\u001b[1;32m   <a href='file:///Library/Frameworks/Python.framework/Versions/3.10/lib/python3.10/site-packages/pandas/core/indexes/base.py?line=3620'>3621</a>\u001b[0m     \u001b[39mreturn\u001b[39;00m \u001b[39mself\u001b[39m\u001b[39m.\u001b[39m_engine\u001b[39m.\u001b[39mget_loc(casted_key)\n\u001b[1;32m   <a href='file:///Library/Frameworks/Python.framework/Versions/3.10/lib/python3.10/site-packages/pandas/core/indexes/base.py?line=3621'>3622</a>\u001b[0m \u001b[39mexcept\u001b[39;00m \u001b[39mKeyError\u001b[39;00m \u001b[39mas\u001b[39;00m err:\n\u001b[0;32m-> <a href='file:///Library/Frameworks/Python.framework/Versions/3.10/lib/python3.10/site-packages/pandas/core/indexes/base.py?line=3622'>3623</a>\u001b[0m     \u001b[39mraise\u001b[39;00m \u001b[39mKeyError\u001b[39;00m(key) \u001b[39mfrom\u001b[39;00m \u001b[39merr\u001b[39;00m\n\u001b[1;32m   <a href='file:///Library/Frameworks/Python.framework/Versions/3.10/lib/python3.10/site-packages/pandas/core/indexes/base.py?line=3623'>3624</a>\u001b[0m \u001b[39mexcept\u001b[39;00m \u001b[39mTypeError\u001b[39;00m:\n\u001b[1;32m   <a href='file:///Library/Frameworks/Python.framework/Versions/3.10/lib/python3.10/site-packages/pandas/core/indexes/base.py?line=3624'>3625</a>\u001b[0m     \u001b[39m# If we have a listlike key, _check_indexing_error will raise\u001b[39;00m\n\u001b[1;32m   <a href='file:///Library/Frameworks/Python.framework/Versions/3.10/lib/python3.10/site-packages/pandas/core/indexes/base.py?line=3625'>3626</a>\u001b[0m     \u001b[39m#  InvalidIndexError. Otherwise we fall through and re-raise\u001b[39;00m\n\u001b[1;32m   <a href='file:///Library/Frameworks/Python.framework/Versions/3.10/lib/python3.10/site-packages/pandas/core/indexes/base.py?line=3626'>3627</a>\u001b[0m     \u001b[39m#  the TypeError.\u001b[39;00m\n\u001b[1;32m   <a href='file:///Library/Frameworks/Python.framework/Versions/3.10/lib/python3.10/site-packages/pandas/core/indexes/base.py?line=3627'>3628</a>\u001b[0m     \u001b[39mself\u001b[39m\u001b[39m.\u001b[39m_check_indexing_error(key)\n",
      "\u001b[0;31mKeyError\u001b[0m: 'status'"
     ]
    }
   ],
   "source": [
    "\n",
    "for i in assets:\n",
    "    print(i)\n",
    "    print(get_min_delegation(i))"
   ]
  },
  {
   "cell_type": "code",
   "execution_count": 3,
   "metadata": {},
   "outputs": [],
   "source": [
    "#minimum amount needed to get in active set https://www.mintscan.io/\n",
    "juno_set = float(juno_actv_val_set_df.tail(1)['delegator_shares'])/1000000\n",
    "osmo_set = 127675  \n",
    "evmos_set = 8670 \n",
    "cosmos_set = 33036\n",
    "akash_set = float(akash_actv_val_set_df.tail(1)['delegator_shares'])/1000000\n",
    "stargaze_set = 907786\n",
    "umee_set = 727533 \n",
    "secret_set = 35466 "
   ]
  },
  {
   "cell_type": "code",
   "execution_count": 4,
   "metadata": {},
   "outputs": [],
   "source": [
    "#staking aprs https://www.mintscan.io/\n",
    "juno_apr = .8288 \n",
    "osmo_apr = .5264\n",
    "evmos_apr = 7.8729 \n",
    "cosmos_apr = .1823 \n",
    "akash_apr = .3239 \n",
    "stargaze_apr = .6163 \n",
    "umee_apr = .5179\n",
    "secret_apr = .2325 \n",
    "terra_apr = .1431"
   ]
  },
  {
   "cell_type": "code",
   "execution_count": 5,
   "metadata": {},
   "outputs": [],
   "source": [
    "data = {\n",
    "    \"juno\":{\"price\":juno_price[\"juno-network\"][\"usd\"], \"set\":juno_set, \"apr\":juno_apr},\n",
    "    \"osmo\":{\"price\":osmo_price[\"osmosis\"][\"usd\"], \"set\":osmo_set, \"apr\":osmo_apr},\n",
    "    \"evmos\":{\"price\":evmos_price[\"evmos\"][\"usd\"], \"set\":evmos_set, \"apr\":evmos_apr},\n",
    "    \"cosmos\":{\"price\":cosmos_price[\"cosmos\"][\"usd\"], \"set\":cosmos_set, \"apr\":cosmos_apr},\n",
    "    \"akash\":{\"price\":akash_price[\"akash-network\"][\"usd\"], \"set\":akash_set, \"apr\":akash_apr},\n",
    "    \"stargaze\":{\"price\":stargaze[\"stargaze\"][\"usd\"], \"set\":stargaze_set, \"apr\":stargaze_apr},\n",
    "    \"umee\":{\"price\":umee[\"umee\"][\"usd\"], \"set\":umee_set, \"apr\":umee_apr},\n",
    "    \"secret\":{\"price\":secret[\"secret\"][\"usd\"], \"set\":secret_set, \"apr\":secret_apr},\n",
    "}"
   ]
  },
  {
   "cell_type": "code",
   "execution_count": 6,
   "metadata": {},
   "outputs": [],
   "source": [
    "def get_apy(apr):\n",
    "    \"\"\"APY assuming compounding daily\"\"\"\n",
    "    return ((1+(apr/365))**(365))-1\n",
    "    \n",
    "def get_cost(price, set):\n",
    "    return price*set\n",
    "\n",
    "def get_monthly_income(p, apy):\n",
    "    return (p*apy)/12"
   ]
  },
  {
   "cell_type": "code",
   "execution_count": 7,
   "metadata": {},
   "outputs": [
    {
     "name": "stdout",
     "output_type": "stream",
     "text": [
      "juno \n",
      "    price: 2.7\n",
      "    apy: 1.29\n",
      "    cost to get in the set: $58422.6\n",
      "    monthly income: $6272.72\n",
      "osmo \n",
      "    price: 0.82\n",
      "    apy: 0.69\n",
      "    cost to get in the set: $105304.3\n",
      "    monthly income: $6074.17\n",
      "evmos \n",
      "    price: 2.06\n",
      "    apy: 2413.37\n",
      "    cost to get in the set: $17860.2\n",
      "    monthly income: $3591940.17\n",
      "cosmos \n",
      "    price: 7.79\n",
      "    apy: 0.2\n",
      "    cost to get in the set: $257350.44\n",
      "    monthly income: $4287.45\n",
      "akash \n",
      "    price: 0.24\n",
      "    apy: 0.38\n",
      "    cost to get in the set: $6120.82\n",
      "    monthly income: $195.0\n",
      "stargaze \n",
      "    price: 0.02\n",
      "    apy: 0.85\n",
      "    cost to get in the set: $19858.46\n",
      "    monthly income: $1408.46\n",
      "umee \n",
      "    price: 0.02\n",
      "    apy: 0.68\n",
      "    cost to get in the set: $17143.19\n",
      "    monthly income: $968.42\n",
      "secret \n",
      "    price: 1.04\n",
      "    apy: 0.26\n",
      "    cost to get in the set: $37026.5\n",
      "    monthly income: $807.35\n"
     ]
    }
   ],
   "source": [
    "assets = ['juno', 'osmo', 'evmos', 'cosmos', 'akash', 'stargaze', 'umee', 'secret']\n",
    "for i in assets:\n",
    "    apy = get_apy(data[i]['apr'])\n",
    "    p = get_cost(data[i]['price'], data[i]['set'])\n",
    "    monthly_income = get_monthly_income(p,apy)\n",
    "    \n",
    "    print(f\"\"\"{i} \n",
    "    price: {round(data[i]['price'],2)}\n",
    "    apy: {round(apy,2)}\n",
    "    cost to get in the set: ${round(p,2)}\n",
    "    monthly income: ${round(monthly_income,2)}\"\"\")"
   ]
  },
  {
   "cell_type": "code",
   "execution_count": 110,
   "metadata": {},
   "outputs": [
    {
     "data": {
      "text/plain": [
       "6408.867592262704"
      ]
     },
     "execution_count": 110,
     "metadata": {},
     "output_type": "execute_result"
    }
   ],
   "source": [
    "#Terra Monthly income\n",
    "terra_apy = get_apy(terra_apr) #assuming compounding daily\n",
    "delegation = 5000000\n",
    "\n",
    "((delegation*terra_apy)/12) *.1"
   ]
  },
  {
   "cell_type": "code",
   "execution_count": 86,
   "metadata": {},
   "outputs": [
    {
     "name": "stdout",
     "output_type": "stream",
     "text": [
      "[]\n"
     ]
    }
   ],
   "source": [
    "print(results)"
   ]
  },
  {
   "cell_type": "code",
   "execution_count": null,
   "metadata": {},
   "outputs": [],
   "source": [
    "for job_element in job_elements:\n",
    "    title_element = job_element.find(\"h2\", class_=\"title\")\n",
    "    company_element = job_element.find(\"h3\", class_=\"company\")\n",
    "    location_element = job_element.find(\"p\", class_=\"location\")\n",
    "    print(title_element)\n",
    "    print(company_element)\n",
    "    print(location_element)\n",
    "    print()"
   ]
  },
  {
   "cell_type": "code",
   "execution_count": 91,
   "metadata": {},
   "outputs": [],
   "source": [
    "# driver = webdriver.Chrome(\"/Users/alderik/code/chromedriver\")\n",
    "# url = \"https://monitor.bronbro.io/d/juno-stats/juno-stats?orgId=2&refresh=5s\"\n",
    "# driver.get(url)\n",
    "\n",
    "# time.sleep(6)\n",
    "# content = driver.page_source.encode('utf-8').strip()\n",
    "# soup = BeautifulSoup(content,\"html.parser\")\n",
    "# officials = soup.find(id=\"5\")"
   ]
  },
  {
   "cell_type": "code",
   "execution_count": 92,
   "metadata": {},
   "outputs": [],
   "source": [
    "# print(officials.prettify())"
   ]
  }
 ],
 "metadata": {
  "interpreter": {
   "hash": "aee8b7b246df8f9039afb4144a1f6fd8d2ca17a180786b69acc140d282b71a49"
  },
  "kernelspec": {
   "display_name": "Python 3.10.4 64-bit",
   "language": "python",
   "name": "python3"
  },
  "language_info": {
   "codemirror_mode": {
    "name": "ipython",
    "version": 3
   },
   "file_extension": ".py",
   "mimetype": "text/x-python",
   "name": "python",
   "nbconvert_exporter": "python",
   "pygments_lexer": "ipython3",
   "version": "3.10.4"
  },
  "orig_nbformat": 4
 },
 "nbformat": 4,
 "nbformat_minor": 2
}
